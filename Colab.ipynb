{
  "nbformat": 4,
  "nbformat_minor": 0,
  "metadata": {
    "colab": {
      "name": "Colab.ipynb",
      "provenance": [],
      "collapsed_sections": [],
      "include_colab_link": true
    },
    "kernelspec": {
      "name": "python3",
      "display_name": "Python 3"
    },
    "language_info": {
      "name": "python"
    }
  },
  "cells": [
    {
      "cell_type": "markdown",
      "metadata": {
        "id": "view-in-github",
        "colab_type": "text"
      },
      "source": [
        "<a href=\"https://colab.research.google.com/github/hwayoung306/Java_algorithm/blob/master/Colab.ipynb\" target=\"_parent\"><img src=\"https://colab.research.google.com/assets/colab-badge.svg\" alt=\"Open In Colab\"/></a>"
      ]
    },
    {
      "cell_type": "markdown",
      "source": [
        "Colab 사용설명서"
      ],
      "metadata": {
        "id": "B07KlI8E8H_F"
      }
    },
    {
      "cell_type": "code",
      "execution_count": null,
      "metadata": {
        "id": "QDV1ofZYVfDm"
      },
      "outputs": [],
      "source": [
        "# 플랫폼 정보를 보는것. 어떤 운영체제의 이미지이냐\n",
        "import platform\n",
        "platform.platform()"
      ]
    },
    {
      "cell_type": "code",
      "source": [
        "# !가 들어가면 리눅스 명령어임\n",
        "# cat은 모니터링 본다 라는 의미\n",
        "# ect폴더안에 issue.net에 정보가 들어있다 -> 운영체제 정보임\n",
        "!cat /etc/issue.net"
      ],
      "metadata": {
        "id": "A8fCQIuwX1Ft"
      },
      "execution_count": null,
      "outputs": []
    },
    {
      "cell_type": "code",
      "source": [
        "# cpu정보\n",
        "!cat /proc/cpuinfo"
      ],
      "metadata": {
        "id": "NrL6n5xBX3dM"
      },
      "execution_count": null,
      "outputs": []
    },
    {
      "cell_type": "code",
      "source": [
        "# 메모리크기\n",
        "!cat /proc/meminfo"
      ],
      "metadata": {
        "id": "c0zjL-cQX859"
      },
      "execution_count": null,
      "outputs": []
    },
    {
      "cell_type": "code",
      "source": [
        "# 하드디스크의 정보\n",
        "!df -h"
      ],
      "metadata": {
        "id": "aDGLY3wZYC1w"
      },
      "execution_count": null,
      "outputs": []
    },
    {
      "cell_type": "code",
      "source": [
        "# 파이썬 버전 확인\n",
        "!python --version"
      ],
      "metadata": {
        "id": "-ZS48kHuYGWu"
      },
      "execution_count": null,
      "outputs": []
    },
    {
      "cell_type": "code",
      "source": [
        "# 그래픽카드 정보 확인\n",
        "!nvidia-smi"
      ],
      "metadata": {
        "id": "LK4ZlDtgYJGN",
        "colab": {
          "base_uri": "https://localhost:8080/"
        },
        "outputId": "80321b53-58f6-4528-fff6-953f25206bc5"
      },
      "execution_count": 9,
      "outputs": [
        {
          "output_type": "stream",
          "name": "stdout",
          "text": [
            "NVIDIA-SMI has failed because it couldn't communicate with the NVIDIA driver. Make sure that the latest NVIDIA driver is installed and running.\n",
            "\n"
          ]
        }
      ]
    },
    {
      "cell_type": "code",
      "source": [
        "# 명령어 검색\n",
        "help()"
      ],
      "metadata": {
        "colab": {
          "base_uri": "https://localhost:8080/"
        },
        "id": "UzT1uxXf_8OW",
        "outputId": "73fbb676-66ad-4647-9161-2a68dd993167"
      },
      "execution_count": 10,
      "outputs": [
        {
          "output_type": "stream",
          "name": "stdout",
          "text": [
            "\n",
            "Welcome to Python 3.7's help utility!\n",
            "\n",
            "If this is your first time using Python, you should definitely check out\n",
            "the tutorial on the Internet at https://docs.python.org/3.7/tutorial/.\n",
            "\n",
            "Enter the name of any module, keyword, or topic to get help on writing\n",
            "Python programs and using Python modules.  To quit this help utility and\n",
            "return to the interpreter, just type \"quit\".\n",
            "\n",
            "To get a list of available modules, keywords, symbols, or topics, type\n",
            "\"modules\", \"keywords\", \"symbols\", or \"topics\".  Each module also comes\n",
            "with a one-line summary of what it does; to list the modules whose name\n",
            "or summary contain a given string such as \"spam\", type \"modules spam\".\n",
            "\n",
            "help> min\n",
            "Help on built-in function min in module builtins:\n",
            "\n",
            "min(...)\n",
            "    min(iterable, *[, default=obj, key=func]) -> value\n",
            "    min(arg1, arg2, *args, *[, key=func]) -> value\n",
            "    \n",
            "    With a single iterable argument, return its smallest item. The\n",
            "    default keyword-only argument specifies an object to return if\n",
            "    the provided iterable is empty.\n",
            "    With two or more arguments, return the smallest argument.\n",
            "\n",
            "help> \n",
            "\n",
            "You are now leaving help and returning to the Python interpreter.\n",
            "If you want to ask for help on a particular object directly from the\n",
            "interpreter, you can type \"help(object)\".  Executing \"help('string')\"\n",
            "has the same effect as typing a particular string at the help> prompt.\n"
          ]
        }
      ]
    },
    {
      "cell_type": "code",
      "source": [
        "a = ['one', 'two', '3']\n",
        "a"
      ],
      "metadata": {
        "colab": {
          "base_uri": "https://localhost:8080/"
        },
        "id": "i7rnVeQvBTqr",
        "outputId": "bf472503-de4d-4091-97ee-cccf39bc4dd9"
      },
      "execution_count": 14,
      "outputs": [
        {
          "output_type": "execute_result",
          "data": {
            "text/plain": [
              "['one', 'two', '3']"
            ]
          },
          "metadata": {},
          "execution_count": 14
        }
      ]
    },
    {
      "cell_type": "code",
      "source": [
        "a.clear()\n",
        "a"
      ],
      "metadata": {
        "colab": {
          "base_uri": "https://localhost:8080/"
        },
        "id": "uQVSjGYLBcHy",
        "outputId": "2772944c-ad70-481b-8411-c017aaa5a9d5"
      },
      "execution_count": 15,
      "outputs": [
        {
          "output_type": "execute_result",
          "data": {
            "text/plain": [
              "[]"
            ]
          },
          "metadata": {},
          "execution_count": 15
        }
      ]
    },
    {
      "cell_type": "code",
      "source": [
        "# ? help와 비슷한 기능으로 기능에 대한 사용법이 나온다\n",
        "?len()"
      ],
      "metadata": {
        "id": "UbtvIuZLBuEo"
      },
      "execution_count": 16,
      "outputs": []
    },
    {
      "cell_type": "markdown",
      "source": [
        "매직 명령어\n",
        "\n",
        "- % : 한 줄의 코드만 실행\n",
        "- %% : 여러줄의 코드를 실행"
      ],
      "metadata": {
        "id": "6KyNv2z5CFdr"
      }
    },
    {
      "cell_type": "code",
      "source": [
        "# 파일을 만드는 방법\n",
        "%%writefile a.py\n",
        "print(\"Hello\")"
      ],
      "metadata": {
        "colab": {
          "base_uri": "https://localhost:8080/"
        },
        "id": "Mv82aYdKCI56",
        "outputId": "ec65c09a-3b97-41e1-ecbb-89d56099fe6f"
      },
      "execution_count": 17,
      "outputs": [
        {
          "output_type": "stream",
          "name": "stdout",
          "text": [
            "Writing a.py\n"
          ]
        }
      ]
    },
    {
      "cell_type": "code",
      "source": [
        "# 리눅스 명령어로 리스트를 보여줌\n",
        "!ls"
      ],
      "metadata": {
        "colab": {
          "base_uri": "https://localhost:8080/"
        },
        "id": "1D2aPd5cCj5U",
        "outputId": "f91777f0-1947-4d9b-8c8a-90b8d20d1430"
      },
      "execution_count": 18,
      "outputs": [
        {
          "output_type": "stream",
          "name": "stdout",
          "text": [
            "a.py  sample_data\n"
          ]
        }
      ]
    },
    {
      "cell_type": "code",
      "source": [
        "# 리북스 명령어 현재 내 위치를 알려주는\n",
        "!pwd"
      ],
      "metadata": {
        "colab": {
          "base_uri": "https://localhost:8080/"
        },
        "id": "sdf0nudACtex",
        "outputId": "048db129-858e-423a-e910-c090714f2528"
      },
      "execution_count": 19,
      "outputs": [
        {
          "output_type": "stream",
          "name": "stdout",
          "text": [
            "/content\n"
          ]
        }
      ]
    },
    {
      "cell_type": "markdown",
      "source": [
        "마크다운"
      ],
      "metadata": {
        "id": "ybERQzU_DgY2"
      }
    },
    {
      "cell_type": "markdown",
      "source": [
        "# 큰 제목 (#)\n",
        "## 작은 제목(##)\n",
        "### 더 작은 제목 (###)\n",
        "###### 제일 작은 제목(#*6)"
      ],
      "metadata": {
        "id": "v5-RfuAYDiRW"
      }
    },
    {
      "cell_type": "markdown",
      "source": [
        "목록\n",
        "\n",
        "\n",
        "1.   항목 추가\n",
        "2.   항목 추가\n",
        "\n",
        "\n",
        "\n",
        "*   항목 추가\n",
        "*   항목 추가\n",
        "  - 단계\n",
        "      - 단계\n",
        "      \n",
        "\n",
        "\n"
      ],
      "metadata": {
        "id": "yG1zo8FhD0mq"
      }
    },
    {
      "cell_type": "code",
      "source": [
        ""
      ],
      "metadata": {
        "id": "ZTFxEugaDfXH"
      },
      "execution_count": null,
      "outputs": []
    }
  ]
}